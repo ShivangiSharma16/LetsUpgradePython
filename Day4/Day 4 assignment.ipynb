{
 "cells": [
  {
   "cell_type": "code",
   "execution_count": null,
   "metadata": {},
   "outputs": [],
   "source": [
    "i=1042000\n",
    "while(i<=702648265):\n",
    "    temp=i\n",
    "    l=0\n",
    "    s=0\n",
    "    while(temp>0):\n",
    "        temp=temp//10\n",
    "        l=l+1\n",
    "    temp=i\n",
    "    while(temp>0):\n",
    "        r=temp%10\n",
    "        s=s+r**l\n",
    "        temp=temp//10\n",
    "    if(s==i):\n",
    "        print(\"The first armstrong number is\",i)\n",
    "        break\n",
    "    i=i+1"
   ]
  }
 ],
 "metadata": {
  "kernelspec": {
   "display_name": "Python 3",
   "language": "python",
   "name": "python3"
  },
  "language_info": {
   "codemirror_mode": {
    "name": "ipython",
    "version": 3
   },
   "file_extension": ".py",
   "mimetype": "text/x-python",
   "name": "python",
   "nbconvert_exporter": "python",
   "pygments_lexer": "ipython3",
   "version": "3.8.3"
  }
 },
 "nbformat": 4,
 "nbformat_minor": 4
}
