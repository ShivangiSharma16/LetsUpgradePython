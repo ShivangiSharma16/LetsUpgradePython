{
 "cells": [
  {
   "cell_type": "markdown",
   "metadata": {},
   "source": [
    "# List & its default funtns:"
   ]
  },
  {
   "cell_type": "code",
   "execution_count": 1,
   "metadata": {},
   "outputs": [],
   "source": [
    "#List is an ordered collection of elements enclosed with []\n",
    "#List are mutuable.\n",
    "#List allows modification in the previous constructed list.\n"
   ]
  },
  {
   "cell_type": "code",
   "execution_count": 5,
   "metadata": {},
   "outputs": [
    {
     "name": "stdout",
     "output_type": "stream",
     "text": [
      "a\n",
      "shivi\n",
      "1\n",
      "2\n",
      "3\n",
      "sharma\n"
     ]
    }
   ],
   "source": [
    "#Modifying a list:-\n",
    "l=['a','shivi',1,2,3,\"sharma\"]\n",
    "for i in l:\n",
    "  print(i)"
   ]
  },
  {
   "cell_type": "code",
   "execution_count": 6,
   "metadata": {},
   "outputs": [
    {
     "name": "stdout",
     "output_type": "stream",
     "text": [
      "['a', 'shivi', 1, 2, 3, 'sharma', 'Thor']\n",
      "a\n",
      "shivi\n",
      "1\n",
      "2\n",
      "3\n",
      "sharma\n",
      "Thor\n"
     ]
    }
   ],
   "source": [
    "#Appending a new element:-\n",
    "l.append(\"Thor\")\n",
    "print(l)\n",
    "for i in l:\n",
    "  print(i)"
   ]
  },
  {
   "cell_type": "code",
   "execution_count": 7,
   "metadata": {},
   "outputs": [
    {
     "name": "stdout",
     "output_type": "stream",
     "text": [
      "['a', 'shivi', 1, 2, 3, 'sharma']\n",
      "a\n",
      "shivi\n",
      "1\n",
      "2\n",
      "3\n",
      "sharma\n"
     ]
    }
   ],
   "source": [
    "#Poping the last element.\n",
    "l.pop()\n",
    "print(l)\n",
    "for i in l:\n",
    "  print(i)"
   ]
  },
  {
   "cell_type": "code",
   "execution_count": 8,
   "metadata": {},
   "outputs": [
    {
     "name": "stdout",
     "output_type": "stream",
     "text": [
      "['sharma', 3, 2, 1, 'shivi', 'a']\n"
     ]
    }
   ],
   "source": [
    "#Reversing elements of a list.\n",
    "l.reverse()\n",
    "print(l)"
   ]
  },
  {
   "cell_type": "code",
   "execution_count": 9,
   "metadata": {},
   "outputs": [
    {
     "name": "stdout",
     "output_type": "stream",
     "text": [
      "['sharma', 'msd', 3, 2, 1, 'shivi', 'a']\n"
     ]
    }
   ],
   "source": [
    "#Inserting element at a specified index.\n",
    "l.insert(1,\"msd\")\n",
    "print(l)"
   ]
  },
  {
   "cell_type": "markdown",
   "metadata": {},
   "source": [
    "# Dictionary & its default functions"
   ]
  },
  {
   "cell_type": "code",
   "execution_count": 10,
   "metadata": {},
   "outputs": [
    {
     "name": "stdout",
     "output_type": "stream",
     "text": [
      "{'Shirt': 32, 'Trousers': 44, 'Skirts': 28, 'Top': 50}\n"
     ]
    }
   ],
   "source": [
    "#Dictionary is an unordered collection of key-values enclosed with {}.\n",
    "#Dictionary is mutuable.\n",
    "#Dictionary allows modification before the created dictionary.\n",
    "\n",
    "d1={'Shirt':32,'Trousers':44, 'Skirts':28,'Top': 50}\n",
    "print(d1)"
   ]
  },
  {
   "cell_type": "code",
   "execution_count": 11,
   "metadata": {},
   "outputs": [
    {
     "data": {
      "text/plain": [
       "dict_values([32, 44, 28, 50])"
      ]
     },
     "execution_count": 11,
     "metadata": {},
     "output_type": "execute_result"
    }
   ],
   "source": [
    "#Extracting keys and values in created dictionaries.\n",
    "d1.keys()\n",
    "d1.values()"
   ]
  },
  {
   "cell_type": "code",
   "execution_count": 16,
   "metadata": {},
   "outputs": [
    {
     "name": "stdout",
     "output_type": "stream",
     "text": [
      "{'Trousers': 44, 'Skirts': 28, 'Top': 50, 'Apple': 100, 'Shirt': 100}\n"
     ]
    }
   ],
   "source": [
    "#Changing an existing element:-\n",
    "d1[\"Shirt\"]=100\n",
    "print(d1)"
   ]
  },
  {
   "cell_type": "code",
   "execution_count": 17,
   "metadata": {},
   "outputs": [
    {
     "name": "stdout",
     "output_type": "stream",
     "text": [
      "{'Trousers': 44, 'Skirts': 28, 'Top': 50, 'Apple': 100}\n"
     ]
    }
   ],
   "source": [
    "# 3-> Poping an element:-\n",
    "d1.pop(\"Shirt\")\n",
    "print(d1)"
   ]
  },
  {
   "cell_type": "code",
   "execution_count": 18,
   "metadata": {},
   "outputs": [
    {
     "name": "stdout",
     "output_type": "stream",
     "text": [
      "{'Trousers': 80, 'Skirts': 28, 'Top': 50, 'Apple': 100, 'Saree': 50}\n"
     ]
    }
   ],
   "source": [
    "#Update one dictionary element with another one:-\n",
    "d2={\"Trousers\":80,\"Saree\":50}\n",
    "d1.update(d2)\n",
    "print(d1)"
   ]
  },
  {
   "cell_type": "markdown",
   "metadata": {},
   "source": [
    "# Sets & its default methods"
   ]
  },
  {
   "cell_type": "code",
   "execution_count": 19,
   "metadata": {},
   "outputs": [
    {
     "name": "stdout",
     "output_type": "stream",
     "text": [
      "{'banana', 'apple', 'mango'}\n"
     ]
    }
   ],
   "source": [
    "#A set is a collection which is unordered and unindexed. In Python sets are written with curly brackets{}.\n",
    "thisset = {\"mango\", \"apple\", \"banana\"}\n",
    "print(thisset)"
   ]
  },
  {
   "cell_type": "code",
   "execution_count": 20,
   "metadata": {},
   "outputs": [
    {
     "name": "stdout",
     "output_type": "stream",
     "text": [
      "banana\n",
      "apple\n",
      "mango\n"
     ]
    }
   ],
   "source": [
    "#Access items\n",
    "for i in thisset:\n",
    "  print(i)"
   ]
  },
  {
   "cell_type": "code",
   "execution_count": 21,
   "metadata": {},
   "outputs": [
    {
     "name": "stdout",
     "output_type": "stream",
     "text": [
      "{'banana', 'apple', 'mango', 'cherry'}\n"
     ]
    }
   ],
   "source": [
    "#Add items.\n",
    "thisset.add('cherry')\n",
    "print(thisset)"
   ]
  },
  {
   "cell_type": "code",
   "execution_count": 22,
   "metadata": {},
   "outputs": [
    {
     "name": "stdout",
     "output_type": "stream",
     "text": [
      "{'cherry', 'litchi', 'banana', 'apple', 'pineapple', 'mango'}\n"
     ]
    }
   ],
   "source": [
    "#Update items.\n",
    "thisset.update(['pineapple','litchi'])\n",
    "print(thisset)"
   ]
  },
  {
   "cell_type": "code",
   "execution_count": 23,
   "metadata": {},
   "outputs": [
    {
     "name": "stdout",
     "output_type": "stream",
     "text": [
      "6\n"
     ]
    }
   ],
   "source": [
    "#Length of set.\n",
    "a=len(thisset)\n",
    "print(a)"
   ]
  },
  {
   "cell_type": "code",
   "execution_count": 24,
   "metadata": {},
   "outputs": [
    {
     "name": "stdout",
     "output_type": "stream",
     "text": [
      "{'cherry', 'litchi', 'apple', 'pineapple', 'mango'}\n"
     ]
    }
   ],
   "source": [
    "#Remove items\n",
    "thisset.remove('banana')\n",
    "print(thisset)"
   ]
  },
  {
   "cell_type": "markdown",
   "metadata": {},
   "source": [
    "# Tuples & its default functions"
   ]
  },
  {
   "cell_type": "code",
   "execution_count": 25,
   "metadata": {},
   "outputs": [],
   "source": [
    "#It is an ordered collection of elements enclosed with()\n",
    "#Tuples are immutable."
   ]
  },
  {
   "cell_type": "code",
   "execution_count": 27,
   "metadata": {},
   "outputs": [
    {
     "name": "stdout",
     "output_type": "stream",
     "text": [
      "(1, True, 2.76, (1+2j))\n"
     ]
    }
   ],
   "source": [
    "T=(1,True,2.76,1+2j)\n",
    "print(T)"
   ]
  },
  {
   "cell_type": "code",
   "execution_count": 29,
   "metadata": {},
   "outputs": [
    {
     "name": "stdout",
     "output_type": "stream",
     "text": [
      "4\n"
     ]
    }
   ],
   "source": [
    "#length of tuple\n",
    "a=len(T)\n",
    "print(a)"
   ]
  },
  {
   "cell_type": "code",
   "execution_count": 30,
   "metadata": {},
   "outputs": [
    {
     "name": "stdout",
     "output_type": "stream",
     "text": [
      "(1, True, 2.76, (1+2j), 2, 3, 4)\n"
     ]
    }
   ],
   "source": [
    "#Concatenating Tuples\n",
    "T1=(2,3,4)\n",
    "b=T+T1\n",
    "print(b)"
   ]
  },
  {
   "cell_type": "code",
   "execution_count": 31,
   "metadata": {},
   "outputs": [
    {
     "name": "stdout",
     "output_type": "stream",
     "text": [
      "(1, True, 2.76, (1+2j), 1, True, 2.76, (1+2j), 1, True, 2.76, (1+2j))\n"
     ]
    }
   ],
   "source": [
    "#Repeating tuple elements\n",
    "c=T*3\n",
    "print(c)"
   ]
  },
  {
   "cell_type": "code",
   "execution_count": 32,
   "metadata": {},
   "outputs": [
    {
     "name": "stdout",
     "output_type": "stream",
     "text": [
      "-10000\n"
     ]
    }
   ],
   "source": [
    "#Minimum value in a tuple\n",
    "T2=(1,2,3,-1,-11,-10000)\n",
    "d=min(T2)\n",
    "print(d)"
   ]
  },
  {
   "cell_type": "code",
   "execution_count": 33,
   "metadata": {},
   "outputs": [
    {
     "name": "stdout",
     "output_type": "stream",
     "text": [
      "3\n"
     ]
    }
   ],
   "source": [
    "#Maximum value in a tuple\n",
    "e=max(T2)\n",
    "print(e)"
   ]
  },
  {
   "cell_type": "markdown",
   "metadata": {},
   "source": [
    "# String & its methods"
   ]
  },
  {
   "cell_type": "code",
   "execution_count": 34,
   "metadata": {},
   "outputs": [
    {
     "name": "stdout",
     "output_type": "stream",
     "text": [
      "Hi, this is Shivangi. Learning to write codes in python\n"
     ]
    }
   ],
   "source": [
    "#String literals in python are surrounded by either single quotation marks, or double quotation marks.\n",
    "a=\"Hi, this is Shivangi. Learning to write codes in python\"\n",
    "print(a)"
   ]
  },
  {
   "cell_type": "code",
   "execution_count": 36,
   "metadata": {},
   "outputs": [
    {
     "name": "stdout",
     "output_type": "stream",
     "text": [
      "i,\n"
     ]
    }
   ],
   "source": [
    "#Slicing a letter from a particular string\n",
    "b=a[1:3]\n",
    "print(b)"
   ]
  },
  {
   "cell_type": "code",
   "execution_count": 38,
   "metadata": {},
   "outputs": [
    {
     "name": "stdout",
     "output_type": "stream",
     "text": [
      "HI, THIS IS SHIVANGI. LEARNING TO WRITE CODES IN PYTHON\n"
     ]
    }
   ],
   "source": [
    "#String in uppercase\n",
    "print(a.upper())"
   ]
  },
  {
   "cell_type": "code",
   "execution_count": 39,
   "metadata": {},
   "outputs": [
    {
     "name": "stdout",
     "output_type": "stream",
     "text": [
      "55\n"
     ]
    }
   ],
   "source": [
    "#Length of string\n",
    "print(len(a))"
   ]
  },
  {
   "cell_type": "code",
   "execution_count": 40,
   "metadata": {},
   "outputs": [
    {
     "name": "stdout",
     "output_type": "stream",
     "text": [
      "Hi, this is Shivangi. Learning to write codes in python\n"
     ]
    }
   ],
   "source": [
    "#Strip method\n",
    "print(a.strip())"
   ]
  },
  {
   "cell_type": "code",
   "execution_count": 41,
   "metadata": {},
   "outputs": [
    {
     "name": "stdout",
     "output_type": "stream",
     "text": [
      "hi, this is shivangi. learning to write codes in python\n"
     ]
    }
   ],
   "source": [
    "#String in Lowercase\n",
    "print(a.lower())"
   ]
  },
  {
   "cell_type": "code",
   "execution_count": 42,
   "metadata": {},
   "outputs": [
    {
     "name": "stdout",
     "output_type": "stream",
     "text": [
      "['Hi', ' this is Shivangi. Learning to write codes in python']\n"
     ]
    }
   ],
   "source": [
    "#split into parts using a letter in the string\n",
    "print(a.split(\",\"))"
   ]
  },
  {
   "cell_type": "code",
   "execution_count": null,
   "metadata": {},
   "outputs": [],
   "source": []
  }
 ],
 "metadata": {
  "kernelspec": {
   "display_name": "Python 3",
   "language": "python",
   "name": "python3"
  },
  "language_info": {
   "codemirror_mode": {
    "name": "ipython",
    "version": 3
   },
   "file_extension": ".py",
   "mimetype": "text/x-python",
   "name": "python",
   "nbconvert_exporter": "python",
   "pygments_lexer": "ipython3",
   "version": "3.8.3"
  }
 },
 "nbformat": 4,
 "nbformat_minor": 4
}
